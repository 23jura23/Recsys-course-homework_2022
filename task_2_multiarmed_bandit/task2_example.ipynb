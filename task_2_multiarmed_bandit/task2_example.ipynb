{
 "cells": [
  {
   "cell_type": "code",
   "execution_count": 1,
   "metadata": {},
   "outputs": [],
   "source": [
    "import numpy as np\n",
    "import pandas as pd\n",
    "import time\n",
    "\n",
    "from functools import partial\n",
    "from scipy.stats import randint, uniform\n",
    "from task_2_multiarmed_bandit.sim_lib import simulation\n",
    "\n",
    "pd.options.mode.chained_assignment = None\n"
   ]
  },
  {
   "cell_type": "code",
   "execution_count": 2,
   "metadata": {},
   "outputs": [],
   "source": [
    "def eps_greedy(history: pd.DataFrame, eps: float):\n",
    "    if uniform.rvs() < eps:\n",
    "        n = history.shape[0]\n",
    "        return history.index[randint.rvs(0, n)]\n",
    "\n",
    "    ctr = history['clicks'] / (history['impressions'] + 10)\n",
    "    n = np.argmax(ctr)\n",
    "    return history.index[n]\n",
    "\n",
    "policy = partial(eps_greedy, eps=0.1)"
   ]
  },
  {
   "cell_type": "code",
   "execution_count": 3,
   "metadata": {},
   "outputs": [
    {
     "name": "stdout",
     "output_type": "stream",
     "text": [
      "1 impressions have been simulated\n",
      "10001 impressions have been simulated\n",
      "20001 impressions have been simulated\n",
      "30001 impressions have been simulated\n",
      "40001 impressions have been simulated\n",
      "50001 impressions have been simulated\n",
      "60001 impressions have been simulated\n",
      "70001 impressions have been simulated\n",
      "80001 impressions have been simulated\n",
      "90001 impressions have been simulated\n",
      "100001 impressions have been simulated\n",
      "110001 impressions have been simulated\n",
      "120001 impressions have been simulated\n",
      "130001 impressions have been simulated\n",
      "140001 impressions have been simulated\n"
     ]
    },
    {
     "data": {
      "text/plain": "447.9021039009094"
     },
     "execution_count": 3,
     "metadata": {},
     "output_type": "execute_result"
    }
   ],
   "source": [
    "np.random.seed(seed=384758915)\n",
    "\n",
    "start = time.time()\n",
    "output = simulation(policy, n=150000)\n",
    "end = time.time()\n",
    "end - start"
   ]
  },
  {
   "cell_type": "code",
   "execution_count": 4,
   "metadata": {},
   "outputs": [
    {
     "data": {
      "text/plain": "(2634.8583470387325, 0.01756572231359155, 134)"
     },
     "execution_count": 4,
     "metadata": {},
     "output_type": "execute_result"
    }
   ],
   "source": [
    "output['regret'], output['regret']/output['rounds'],  output['total_banners']"
   ]
  },
  {
   "cell_type": "code",
   "execution_count": 7,
   "metadata": {},
   "outputs": [
    {
     "data": {
      "text/plain": "     impressions  clicks      lifetime         p\n117       4025.0    68.0   6278.975025  0.015958\n125       1473.0    25.0   1500.571019  0.013514\n128         85.0     1.0  45847.064979  0.007563\n130        103.0     3.0   1422.516674  0.013963\n131         35.0     0.0  15121.166816  0.054146\n132        807.0    24.0   1909.576446  0.033664\n133          0.0     0.0  17232.088474  0.069912",
      "text/html": "<div>\n<style scoped>\n    .dataframe tbody tr th:only-of-type {\n        vertical-align: middle;\n    }\n\n    .dataframe tbody tr th {\n        vertical-align: top;\n    }\n\n    .dataframe thead th {\n        text-align: right;\n    }\n</style>\n<table border=\"1\" class=\"dataframe\">\n  <thead>\n    <tr style=\"text-align: right;\">\n      <th></th>\n      <th>impressions</th>\n      <th>clicks</th>\n      <th>lifetime</th>\n      <th>p</th>\n    </tr>\n  </thead>\n  <tbody>\n    <tr>\n      <th>117</th>\n      <td>4025.0</td>\n      <td>68.0</td>\n      <td>6278.975025</td>\n      <td>0.015958</td>\n    </tr>\n    <tr>\n      <th>125</th>\n      <td>1473.0</td>\n      <td>25.0</td>\n      <td>1500.571019</td>\n      <td>0.013514</td>\n    </tr>\n    <tr>\n      <th>128</th>\n      <td>85.0</td>\n      <td>1.0</td>\n      <td>45847.064979</td>\n      <td>0.007563</td>\n    </tr>\n    <tr>\n      <th>130</th>\n      <td>103.0</td>\n      <td>3.0</td>\n      <td>1422.516674</td>\n      <td>0.013963</td>\n    </tr>\n    <tr>\n      <th>131</th>\n      <td>35.0</td>\n      <td>0.0</td>\n      <td>15121.166816</td>\n      <td>0.054146</td>\n    </tr>\n    <tr>\n      <th>132</th>\n      <td>807.0</td>\n      <td>24.0</td>\n      <td>1909.576446</td>\n      <td>0.033664</td>\n    </tr>\n    <tr>\n      <th>133</th>\n      <td>0.0</td>\n      <td>0.0</td>\n      <td>17232.088474</td>\n      <td>0.069912</td>\n    </tr>\n  </tbody>\n</table>\n</div>"
     },
     "execution_count": 7,
     "metadata": {},
     "output_type": "execute_result"
    }
   ],
   "source": [
    "output['history']"
   ]
  },
  {
   "cell_type": "code",
   "execution_count": null,
   "metadata": {},
   "outputs": [],
   "source": []
  }
 ],
 "metadata": {
  "kernelspec": {
   "display_name": "Python 3",
   "language": "python",
   "name": "python3"
  },
  "language_info": {
   "codemirror_mode": {
    "name": "ipython",
    "version": 3
   },
   "file_extension": ".py",
   "mimetype": "text/x-python",
   "name": "python",
   "nbconvert_exporter": "python",
   "pygments_lexer": "ipython3",
   "version": "3.7.4"
  }
 },
 "nbformat": 4,
 "nbformat_minor": 4
}